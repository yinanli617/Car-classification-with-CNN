{
 "cells": [
  {
   "cell_type": "markdown",
   "id": "def403f2",
   "metadata": {
    "papermill": {
     "duration": 0.012097,
     "end_time": "2021-10-29T20:35:14.177831",
     "exception": false,
     "start_time": "2021-10-29T20:35:14.165734",
     "status": "completed"
    },
    "tags": []
   },
   "source": [
    "# Classification of cars using CNN and transfer learning\n",
    "\n",
    "## Introduction\n",
    "\n",
    "In this project, I will tackle a classification problem using the [stanford car dataset](https://ai.stanford.edu/~jkrause/cars/car_dataset.html). This dataset contains 16,185 images of 196 classes of cars. The data is split into 8,144 training images and 8,041 testing images, where each class has been split roughly in a 50-50 split. Classes are typically at the level of Make, Model, Year, e.g. 2012 Tesla Model S or 2012 BMW M3 coupe. **The objective of this project is to train a deep learning model that takes an image of a car as input and then output its class**.\n",
    "\n",
    "Due to the limited number of images, it is difficult to train a deep learning model from scratch with this dataset. Therefore I will leverage the power of **transfer learning**, a common approch used in deep learning (especially in computer vision) and use a pretrained efficientnet model and fine-tune it on our own dataset."
   ]
  },
  {
   "cell_type": "markdown",
   "id": "9cd05407",
   "metadata": {
    "papermill": {
     "duration": 0.0107,
     "end_time": "2021-10-29T20:35:14.200844",
     "exception": false,
     "start_time": "2021-10-29T20:35:14.190144",
     "status": "completed"
    },
    "tags": []
   },
   "source": [
    "## Import"
   ]
  },
  {
   "cell_type": "code",
   "execution_count": 1,
   "id": "ecfe99ec",
   "metadata": {
    "papermill": {
     "duration": 6.690971,
     "end_time": "2021-10-29T20:35:30.112920",
     "exception": false,
     "start_time": "2021-10-29T20:35:23.421949",
     "status": "completed"
    },
    "tags": []
   },
   "outputs": [
    {
     "name": "stdout",
     "output_type": "stream",
     "text": [
      "cuda:0\n",
      "GeForce RTX 2070 Super with Max-Q Design\n"
     ]
    }
   ],
   "source": [
    "import matplotlib.pyplot as plt\n",
    "import numpy as np\n",
    "\n",
    "import torch\n",
    "import torch.nn as nn\n",
    "import torch.nn.functional as F\n",
    "import torch.optim as optim\n",
    "import torchvision\n",
    "import torchvision.models as models\n",
    "import torchvision.transforms as transforms\n",
    "\n",
    "import timm\n",
    "\n",
    "import time\n",
    "import os\n",
    "import sys\n",
    "import tqdm\n",
    "from tqdm.contrib.logging import logging_redirect_tqdm\n",
    "import PIL.Image as Image\n",
    "from IPython.display import display\n",
    "import logging\n",
    "\n",
    "device = torch.device(\"cuda:0\" if torch.cuda.is_available() else \"cpu\")\n",
    "print(device)\n",
    "print(torch.cuda.get_device_name(device))"
   ]
  },
  {
   "cell_type": "code",
   "execution_count": 2,
   "id": "c09ca3c2",
   "metadata": {
    "papermill": {
     "duration": 0.017981,
     "end_time": "2021-10-29T20:35:30.142448",
     "exception": false,
     "start_time": "2021-10-29T20:35:30.124467",
     "status": "completed"
    },
    "tags": []
   },
   "outputs": [],
   "source": [
    "DATASET_DIR = './stanford_car_dataset/car_data/car_data/'\n",
    "NUM_CAR_CLASSES = 196\n",
    "LOG_PATH = ''"
   ]
  },
  {
   "cell_type": "markdown",
   "id": "d4a29ee2",
   "metadata": {
    "papermill": {
     "duration": 0.011213,
     "end_time": "2021-10-29T20:35:30.165079",
     "exception": false,
     "start_time": "2021-10-29T20:35:30.153866",
     "status": "completed"
    },
    "tags": []
   },
   "source": [
    "## Dataset\n",
    "\n",
    "The dataset is stored in the following structure:\n",
    "\n",
    "└── car_data\n",
    "\n",
    "    ├── test ── <car_class> ── images\n",
    "    \n",
    "    └── train ── <car_class> ── images\n",
    "    \n",
    "In other words, in each of the train/test directory, there are 196 subdirectories with unique identifiers (the name of the car class). In each of these subdirectories, images belonging to the corresponding car class are stored.\n",
    "\n",
    "Given the structure of this dataset, the convenient utility tool `torchvision.datasets.ImageFolder`, which is a subclass of `torch.utils.data.Dataset` will prove quite handy."
   ]
  },
  {
   "cell_type": "code",
   "execution_count": 3,
   "id": "422226d3",
   "metadata": {
    "papermill": {
     "duration": 0.01807,
     "end_time": "2021-10-29T20:35:30.194644",
     "exception": false,
     "start_time": "2021-10-29T20:35:30.176574",
     "status": "completed"
    },
    "tags": []
   },
   "outputs": [],
   "source": [
    "# ! tree -d ./stanford_car_dataset/car_data/"
   ]
  },
  {
   "cell_type": "code",
   "execution_count": 4,
   "id": "1f4e1aeb",
   "metadata": {
    "papermill": {
     "duration": 0.023136,
     "end_time": "2021-10-29T20:35:30.229493",
     "exception": false,
     "start_time": "2021-10-29T20:35:30.206357",
     "status": "completed"
    },
    "tags": []
   },
   "outputs": [],
   "source": [
    "def get_dataloaders(dataset_dir):\n",
    "    # To help prevent overfitting, I did some simple augmentation including horizontal flip and rotation here.\n",
    "    # For more image augmentation options, the albumentations package works really well with pytorch\n",
    "    # https://github.com/albumentations-team/albumentations\n",
    "\n",
    "    # On another note, I recently found another helpful package - torchIO which is good for 3d volume dataset\n",
    "    # https://github.com/fepegar/torchio\n",
    "\n",
    "    # note: no data augmentation for test data\n",
    "\n",
    "    width, height = 224, 224\n",
    "    train_tfms = transforms.Compose([transforms.Resize((width, height)),\n",
    "                                     transforms.RandomHorizontalFlip(),\n",
    "                                     transforms.RandomRotation(15),\n",
    "                                     transforms.ToTensor(),\n",
    "                                     transforms.Normalize([0.485, 0.456, 0.406], [0.229, 0.224, 0.225])])\n",
    "    test_tfms = transforms.Compose([transforms.Resize((width, height)),\n",
    "                                    transforms.ToTensor(),\n",
    "                                    transforms.Normalize([0.485, 0.456, 0.406], [0.229, 0.224, 0.225])])\n",
    "\n",
    "    # create datasets\n",
    "    train_dset = torchvision.datasets.ImageFolder(root=dataset_dir + \"train\", transform=train_tfms)\n",
    "    train_dl = torch.utils.data.DataLoader(train_dset, batch_size=32, shuffle=True, num_workers=6)\n",
    "\n",
    "    test_dset = torchvision.datasets.ImageFolder(root=dataset_dir + \"test\", transform = test_tfms)\n",
    "    test_dl = torch.utils.data.DataLoader(test_dset, batch_size=32, shuffle=False, num_workers=6)\n",
    "    \n",
    "    return train_dl, test_dl"
   ]
  },
  {
   "cell_type": "markdown",
   "id": "658a125f",
   "metadata": {
    "papermill": {
     "duration": 0.011641,
     "end_time": "2021-10-29T20:35:30.252601",
     "exception": false,
     "start_time": "2021-10-29T20:35:30.240960",
     "status": "completed"
    },
    "tags": []
   },
   "source": [
    "## Training function"
   ]
  },
  {
   "cell_type": "code",
   "execution_count": 5,
   "id": "582b5a50",
   "metadata": {
    "papermill": {
     "duration": 0.024855,
     "end_time": "2021-10-29T20:35:30.288867",
     "exception": false,
     "start_time": "2021-10-29T20:35:30.264012",
     "status": "completed"
    },
    "tags": []
   },
   "outputs": [],
   "source": [
    "def train_model(model, train_dl, test_dl, loss_fn, optimizer, scheduler, n_epochs=5):\n",
    "    \n",
    "    losses = []\n",
    "    accuracies = []\n",
    "    test_losses = []\n",
    "    test_accuracies = []\n",
    "\n",
    "    # set the model to train mode initially\n",
    "    model.train()\n",
    "    best_test_acc = 0\n",
    "    for epoch in tqdm.tqdm(range(1, n_epochs+1)):\n",
    "        running_loss = 0.0\n",
    "        running_correct = 0.0\n",
    "        for i, data in enumerate(train_dl, 0):\n",
    "\n",
    "            # get the inputs and assign them to cuda\n",
    "            inputs, labels = data\n",
    "            inputs = inputs.to(device)\n",
    "            labels = labels.to(device)\n",
    "            \n",
    "            optimizer.zero_grad()\n",
    "            \n",
    "            # forward + backward + optimize\n",
    "            outputs = model(inputs)\n",
    "            predicted = F.softmax(outputs, dim=-1).argmax(dim=-1)\n",
    "            loss = loss_fn(outputs, labels)\n",
    "            loss.backward()\n",
    "            optimizer.step()\n",
    "            \n",
    "            # calculate the loss/acc\n",
    "            running_loss += loss.item() * inputs.shape[0]\n",
    "            running_correct += (labels==predicted).sum().item()\n",
    "\n",
    "        epoch_loss = running_loss / len(train_dl.dataset)\n",
    "        epoch_acc = running_correct / len(train_dl.dataset) * 100.0\n",
    "        \n",
    "        with logging_redirect_tqdm():\n",
    "            msg = f\"Train Epoch: {epoch}\\ttrain_loss: {epoch_loss:.4f}\\ttrain_accuracy: {epoch_acc:.4f}%\"\n",
    "            logging.info(msg)\n",
    "        \n",
    "        losses.append(epoch_loss)\n",
    "        accuracies.append(epoch_acc)\n",
    "        \n",
    "        # switch the model to eval mode to evaluate on test data\n",
    "        model.eval()\n",
    "        test_loss, test_acc = eval_model(model, test_dl, loss_fn)\n",
    "        test_losses.append(test_loss)\n",
    "        test_accuracies.append(test_acc)\n",
    "        \n",
    "        if test_acc > best_test_acc:\n",
    "            best_test_acc = test_acc\n",
    "            logging.info('Model saved.')\n",
    "            torch.save(model.state_dict(), 'best_model.pt')\n",
    "        \n",
    "        # re-set the model to train mode after validation\n",
    "        model.train()\n",
    "        scheduler.step(test_acc)\n",
    "    print('Finished Training')\n",
    "    return model, losses, accuracies, test_losses, test_accuracies"
   ]
  },
  {
   "cell_type": "markdown",
   "id": "a6815386",
   "metadata": {
    "papermill": {
     "duration": 0.011206,
     "end_time": "2021-10-29T20:35:30.311676",
     "exception": false,
     "start_time": "2021-10-29T20:35:30.300470",
     "status": "completed"
    },
    "tags": []
   },
   "source": [
    "## Testing function"
   ]
  },
  {
   "cell_type": "code",
   "execution_count": 6,
   "id": "8606b3df",
   "metadata": {
    "papermill": {
     "duration": 0.020836,
     "end_time": "2021-10-29T20:35:30.343917",
     "exception": false,
     "start_time": "2021-10-29T20:35:30.323081",
     "status": "completed"
    },
    "tags": []
   },
   "outputs": [],
   "source": [
    "def eval_model(model, test_dl, loss_fn):\n",
    "    correct = 0.0\n",
    "    total = 0.0\n",
    "    loss_total = 0.0\n",
    "    with torch.no_grad():\n",
    "        for i, data in enumerate(test_dl, 0):\n",
    "            images, labels = data\n",
    "            images = images.to(device)\n",
    "            labels = labels.to(device)\n",
    "\n",
    "            outputs = model(images)\n",
    "            loss = loss_fn(outputs, labels)\n",
    "            loss_total += loss.item() * images.shape[0]\n",
    "            predicted = F.softmax(outputs, dim=-1).argmax(dim=-1)\n",
    "\n",
    "            correct += (predicted == labels).sum().item()\n",
    "\n",
    "    test_acc = 100.0 * correct / len(test_dl.dataset)\n",
    "    test_loss = loss_total / len(test_dl.dataset)\n",
    "    \n",
    "    with logging_redirect_tqdm():\n",
    "        msg = f'test_loss: {test_loss:.4f}\\ttest_accuracy: {test_acc:.4f}%\\n'\n",
    "        logging.info(msg)\n",
    "    \n",
    "    return test_loss, test_acc"
   ]
  },
  {
   "cell_type": "markdown",
   "id": "608720f3",
   "metadata": {
    "papermill": {
     "duration": 0.01114,
     "end_time": "2021-10-29T20:35:30.366543",
     "exception": false,
     "start_time": "2021-10-29T20:35:30.355403",
     "status": "completed"
    },
    "tags": []
   },
   "source": [
    "## Main function"
   ]
  },
  {
   "cell_type": "code",
   "execution_count": 7,
   "id": "ba579193",
   "metadata": {
    "papermill": {
     "duration": 0.02119,
     "end_time": "2021-10-29T20:35:30.399103",
     "exception": false,
     "start_time": "2021-10-29T20:35:30.377913",
     "status": "completed"
    },
    "tags": []
   },
   "outputs": [],
   "source": [
    "def main():\n",
    "    train_dl, test_dl = get_dataloaders(DATASET_DIR)\n",
    "    \n",
    "    # I use the wonderful timm package to load the pretrained efficientnet model\n",
    "    # https://github.com/rwightman/pytorch-image-models\n",
    "    model_ft = timm.create_model('efficientnet_b3', pretrained=True)\n",
    "    \n",
    "    # replace the last fc layer with an untrained one (requires grad by default)\n",
    "    num_ftrs = model_ft.classifier.in_features\n",
    "    model_ft.classifier = nn.Linear(num_ftrs, NUM_CAR_CLASSES)\n",
    "    model_ft.to(device)\n",
    "    \n",
    "    loss_fn = nn.CrossEntropyLoss()\n",
    "    optimizer = optim.Adam(model_ft.parameters(), lr=0.001)\n",
    "    \n",
    "    lrscheduler = optim.lr_scheduler.ReduceLROnPlateau(optimizer,\n",
    "                                                       mode='max',\n",
    "                                                       patience=3,\n",
    "                                                       threshold = 0.9,\n",
    "                                                       min_lr=1e-6,\n",
    "                                                       verbose=True,\n",
    "                                                      )\n",
    "    \n",
    "    # Use this format (%Y-%m-%dT%H:%M:%SZ) to record timestamp of the metrics.\n",
    "    # If log_path is empty print log to StdOut, otherwise print log to the file.\n",
    "    if LOG_PATH == \"\":\n",
    "        logging.basicConfig(\n",
    "            format=\"%(asctime)s %(levelname)-8s %(message)s\",\n",
    "            datefmt=\"%Y-%m-%dT%H:%M:%SZ\",\n",
    "            level=logging.INFO)\n",
    "    else:\n",
    "        logging.basicConfig(\n",
    "            format=\"%(asctime)s %(levelname)-8s %(message)s\",\n",
    "            datefmt=\"%Y-%m-%dT%H:%M:%SZ\",\n",
    "            level=logging.INFO,\n",
    "            filename=LOG_PATH)\n",
    "    \n",
    "    model_ft, training_losses, training_accs, test_losses, test_accs = train_model(model_ft,\n",
    "                                                                                  train_dl,\n",
    "                                                                                  test_dl,\n",
    "                                                                                  loss_fn,\n",
    "                                                                                  optimizer,\n",
    "                                                                                  lrscheduler,\n",
    "                                                                                  n_epochs=20\n",
    "                                                                                 )\n",
    "    \n",
    "    return training_losses, training_accs, test_losses, test_accs"
   ]
  },
  {
   "cell_type": "code",
   "execution_count": 8,
   "id": "675c7b23",
   "metadata": {
    "papermill": {
     "duration": 3656.9525,
     "end_time": "2021-10-29T21:36:27.363001",
     "exception": false,
     "start_time": "2021-10-29T20:35:30.410501",
     "status": "completed"
    },
    "tags": []
   },
   "outputs": [
    {
     "name": "stderr",
     "output_type": "stream",
     "text": [
      "2021-10-29T21:37:45Z INFO     Train Epoch: 1\ttrain_loss: 3.4931\ttrain_accuracy: 22.3846%\n",
      "2021-10-29T21:38:09Z INFO     test_loss: 1.9248\ttest_accuracy: 47.6433%         \n",
      "\n",
      "  0%|                                                    | 0/20 [01:39<?, ?it/s]2021-10-29T21:38:09Z INFO     Model saved.\n",
      "2021-10-29T21:39:26Z INFO     Train Epoch: 2\ttrain_loss: 1.1969\ttrain_accuracy: 65.7417%\n",
      "2021-10-29T21:39:49Z INFO     test_loss: 0.9511\ttest_accuracy: 72.4785%         \n",
      "\n",
      "  5%|██▏                                         | 1/20 [03:19<31:38, 99.91s/it]2021-10-29T21:39:49Z INFO     Model saved.\n",
      "2021-10-29T21:41:06Z INFO     Train Epoch: 3\ttrain_loss: 0.5721\ttrain_accuracy: 82.8463%\n",
      "2021-10-29T21:41:30Z INFO     test_loss: 0.7854\ttest_accuracy: 77.7142%         \n",
      "\n",
      " 10%|████▍                                       | 2/20 [05:00<29:58, 99.89s/it]2021-10-29T21:41:30Z INFO     Model saved.\n",
      "2021-10-29T21:42:47Z INFO     Train Epoch: 4\ttrain_loss: 0.3733\ttrain_accuracy: 88.2367%\n",
      "2021-10-29T21:43:11Z INFO     test_loss: 0.8200\ttest_accuracy: 77.3660%         \n",
      "\n",
      "2021-10-29T21:44:28Z INFO     Train Epoch: 5\ttrain_loss: 0.2977\ttrain_accuracy: 90.8522%\n",
      "2021-10-29T21:44:51Z INFO     test_loss: 0.7722\ttest_accuracy: 79.5423%         \n",
      "\n",
      " 20%|████████▌                                  | 4/20 [08:21<26:49, 100.62s/it]2021-10-29T21:44:51Z INFO     Model saved.\n",
      " 25%|██████████▊                                | 5/20 [08:21<25:06, 100.46s/it]"
     ]
    },
    {
     "name": "stdout",
     "output_type": "stream",
     "text": [
      "Epoch     5: reducing learning rate of group 0 to 1.0000e-04.\n"
     ]
    },
    {
     "name": "stderr",
     "output_type": "stream",
     "text": [
      "2021-10-29T21:46:08Z INFO     Train Epoch: 6\ttrain_loss: 0.1211\ttrain_accuracy: 96.3163%\n",
      "2021-10-29T21:46:32Z INFO     test_loss: 0.4883\ttest_accuracy: 87.1782%         \n",
      "\n",
      " 25%|██████████▊                                | 5/20 [10:02<25:06, 100.46s/it]2021-10-29T21:46:32Z INFO     Model saved.\n",
      "2021-10-29T21:47:49Z INFO     Train Epoch: 7\ttrain_loss: 0.0610\ttrain_accuracy: 98.4160%\n",
      "2021-10-29T21:48:13Z INFO     test_loss: 0.4368\ttest_accuracy: 87.9368%         \n",
      "\n",
      " 30%|████████████▉                              | 6/20 [11:43<23:27, 100.57s/it]2021-10-29T21:48:13Z INFO     Model saved.\n",
      "2021-10-29T21:49:30Z INFO     Train Epoch: 8\ttrain_loss: 0.0401\ttrain_accuracy: 99.0545%\n",
      "2021-10-29T21:49:53Z INFO     test_loss: 0.4690\ttest_accuracy: 88.3845%         \n",
      "\n",
      " 35%|███████████████                            | 7/20 [13:23<21:49, 100.72s/it]2021-10-29T21:49:53Z INFO     Model saved.\n",
      "2021-10-29T21:51:10Z INFO     Train Epoch: 9\ttrain_loss: 0.0333\ttrain_accuracy: 99.1773%\n",
      "2021-10-29T21:51:34Z INFO     test_loss: 0.4439\ttest_accuracy: 88.1855%         \n",
      "\n",
      " 45%|███████████████████▎                       | 9/20 [15:04<18:25, 100.53s/it]"
     ]
    },
    {
     "name": "stdout",
     "output_type": "stream",
     "text": [
      "Epoch     9: reducing learning rate of group 0 to 1.0000e-05.\n"
     ]
    },
    {
     "name": "stderr",
     "output_type": "stream",
     "text": [
      "2021-10-29T21:52:51Z INFO     Train Epoch: 10\ttrain_loss: 0.0290\ttrain_accuracy: 99.4474%\n",
      "2021-10-29T21:53:14Z INFO     test_loss: 0.4581\ttest_accuracy: 88.2104%         \n",
      "\n",
      "2021-10-29T21:54:31Z INFO     Train Epoch: 11\ttrain_loss: 0.0261\ttrain_accuracy: 99.5457%\n",
      "2021-10-29T21:54:55Z INFO     test_loss: 0.4455\ttest_accuracy: 88.5462%         \n",
      "\n",
      " 50%|█████████████████████                     | 10/20 [18:25<16:45, 100.54s/it]2021-10-29T21:54:55Z INFO     Model saved.\n",
      "2021-10-29T21:56:13Z INFO     Train Epoch: 12\ttrain_loss: 0.0259\ttrain_accuracy: 99.5088%\n",
      "2021-10-29T21:56:36Z INFO     test_loss: 0.4454\ttest_accuracy: 88.6208%         \n",
      "\n",
      " 55%|███████████████████████                   | 11/20 [20:06<15:05, 100.63s/it]2021-10-29T21:56:36Z INFO     Model saved.\n",
      "2021-10-29T21:57:53Z INFO     Train Epoch: 13\ttrain_loss: 0.0225\ttrain_accuracy: 99.5580%\n",
      "2021-10-29T21:58:17Z INFO     test_loss: 0.4264\ttest_accuracy: 88.8322%         \n",
      "\n",
      " 60%|█████████████████████████▏                | 12/20 [21:47<13:26, 100.78s/it]2021-10-29T21:58:17Z INFO     Model saved.\n",
      " 65%|███████████████████████████▎              | 13/20 [21:47<11:46, 100.87s/it]"
     ]
    },
    {
     "name": "stdout",
     "output_type": "stream",
     "text": [
      "Epoch    13: reducing learning rate of group 0 to 1.0000e-06.\n"
     ]
    },
    {
     "name": "stderr",
     "output_type": "stream",
     "text": [
      "2021-10-29T21:59:35Z INFO     Train Epoch: 14\ttrain_loss: 0.0241\ttrain_accuracy: 99.5088%\n",
      "2021-10-29T21:59:58Z INFO     test_loss: 0.4354\ttest_accuracy: 88.6830%         \n",
      "\n",
      "2021-10-29T22:01:16Z INFO     Train Epoch: 15\ttrain_loss: 0.0237\ttrain_accuracy: 99.5457%\n",
      "2021-10-29T22:01:40Z INFO     test_loss: 0.4224\ttest_accuracy: 88.8820%         \n",
      "\n",
      " 70%|█████████████████████████████▍            | 14/20 [25:10<10:04, 100.77s/it]2021-10-29T22:01:40Z INFO     Model saved.\n",
      "2021-10-29T22:02:57Z INFO     Train Epoch: 16\ttrain_loss: 0.0243\ttrain_accuracy: 99.5457%\n",
      "2021-10-29T22:03:20Z INFO     test_loss: 0.4311\ttest_accuracy: 88.8198%         \n",
      "\n",
      "2021-10-29T22:04:37Z INFO     Train Epoch: 17\ttrain_loss: 0.0235\ttrain_accuracy: 99.5825%\n",
      "2021-10-29T22:05:01Z INFO     test_loss: 0.4431\ttest_accuracy: 88.5462%         \n",
      "\n",
      "2021-10-29T22:06:17Z INFO     Train Epoch: 18\ttrain_loss: 0.0232\ttrain_accuracy: 99.5948%\n",
      "2021-10-29T22:06:41Z INFO     test_loss: 0.4381\ttest_accuracy: 88.7949%         \n",
      "\n",
      "2021-10-29T22:07:58Z INFO     Train Epoch: 19\ttrain_loss: 0.0243\ttrain_accuracy: 99.4966%\n",
      "2021-10-29T22:08:21Z INFO     test_loss: 0.4519\ttest_accuracy: 88.4840%         \n",
      "\n",
      "2021-10-29T22:09:38Z INFO     Train Epoch: 20\ttrain_loss: 0.0234\ttrain_accuracy: 99.6071%\n",
      "2021-10-29T22:10:02Z INFO     test_loss: 0.4645\ttest_accuracy: 88.5711%         \n",
      "\n",
      "100%|██████████████████████████████████████████| 20/20 [33:32<00:00, 100.61s/it]"
     ]
    },
    {
     "name": "stdout",
     "output_type": "stream",
     "text": [
      "Finished Training\n"
     ]
    },
    {
     "name": "stderr",
     "output_type": "stream",
     "text": [
      "\n"
     ]
    }
   ],
   "source": [
    "training_losses, training_accs, test_losses, test_accs = main()"
   ]
  },
  {
   "cell_type": "markdown",
   "id": "31e956fa",
   "metadata": {
    "papermill": {
     "duration": 0.050168,
     "end_time": "2021-10-29T21:36:27.462668",
     "exception": false,
     "start_time": "2021-10-29T21:36:27.412500",
     "status": "completed"
    },
    "tags": []
   },
   "source": [
    "## Plot metrics"
   ]
  },
  {
   "cell_type": "code",
   "execution_count": 9,
   "id": "05011957",
   "metadata": {
    "papermill": {
     "duration": 0.692053,
     "end_time": "2021-10-29T21:36:28.205308",
     "exception": false,
     "start_time": "2021-10-29T21:36:27.513255",
     "status": "completed"
    },
    "tags": []
   },
   "outputs": [
    {
     "data": {
      "text/plain": [
       "Text(0.5, 1.0, 'Test acc')"
      ]
     },
     "execution_count": 9,
     "metadata": {},
     "output_type": "execute_result"
    },
    {
     "data": {
      "image/png": "[encoded data removed]",
      "text/plain": [
       "<Figure size 864x576 with 4 Axes>"
      ]
     },
     "metadata": {
      "needs_background": "light"
     },
     "output_type": "display_data"
    }
   ],
   "source": [
    "# plot the stats\n",
    "f, axarr = plt.subplots(2,2, figsize = (12, 8))\n",
    "axarr[0, 0].plot(training_losses)\n",
    "axarr[0, 0].set_title(\"Training loss\")\n",
    "axarr[0, 1].plot(training_accs)\n",
    "axarr[0, 1].set_title(\"Training acc\")\n",
    "\n",
    "axarr[1, 0].plot(test_losses)\n",
    "axarr[1, 0].set_title(\"Test loss\")\n",
    "axarr[1, 1].plot(test_accs)\n",
    "axarr[1, 1].set_title(\"Test acc\")"
   ]
  },
  {
   "cell_type": "code",
   "execution_count": null,
   "id": "5bd2861e",
   "metadata": {
    "papermill": {
     "duration": 0.050062,
     "end_time": "2021-10-29T21:36:28.306608",
     "exception": false,
     "start_time": "2021-10-29T21:36:28.256546",
     "status": "completed"
    },
    "tags": []
   },
   "outputs": [],
   "source": []
  }
 ],
 "metadata": {
  "kernelspec": {
   "display_name": "Python 3 (ipykernel)",
   "language": "python",
   "name": "python3"
  },
  "language_info": {
   "codemirror_mode": {
    "name": "ipython",
    "version": 3
   },
   "file_extension": ".py",
   "mimetype": "text/x-python",
   "name": "python",
   "nbconvert_exporter": "python",
   "pygments_lexer": "ipython3",
   "version": "3.8.5"
  },
  "papermill": {
   "default_parameters": {},
   "duration": 3684.951888,
   "end_time": "2021-10-29T21:36:31.498735",
   "environment_variables": {},
   "exception": null,
   "input_path": "__notebook__.ipynb",
   "output_path": "__notebook__.ipynb",
   "parameters": {},
   "start_time": "2021-10-29T20:35:06.546847",
   "version": "2.3.3"
  }
 },
 "nbformat": 4,
 "nbformat_minor": 5
}
